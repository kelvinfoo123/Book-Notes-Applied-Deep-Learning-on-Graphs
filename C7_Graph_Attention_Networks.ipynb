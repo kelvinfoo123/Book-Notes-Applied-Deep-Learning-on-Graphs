{
  "nbformat": 4,
  "nbformat_minor": 0,
  "metadata": {
    "colab": {
      "provenance": [],
      "gpuType": "T4"
    },
    "kernelspec": {
      "name": "python3",
      "display_name": "Python 3"
    },
    "language_info": {
      "name": "python"
    },
    "accelerator": "GPU"
  },
  "cells": [
    {
      "cell_type": "markdown",
      "source": [
        "### **Introducing Graph Attention Layer**\n",
        "- The main idea behind GAT is that some nodes are more important than others. The graph attention layer produces weighting factor that considers the importance of node features.\n",
        "- Define the weighting factor as attention scores and let $\\alpha_{ij}$ be the attention score between nodes $i$ and $j$.\n",
        "$$h_i = \\sum_{j \\in N_i} \\alpha_{ij}Wx_j$$\n",
        "- Node features from a central node $i$ and a neighbour $j$ is represented by a concatenation between the hidden vector, $[w{x_i} || w{x_j}]$. An additional linear transformation is applied with a learnable weight matrix $W_{att}$. During training, the matrix learns weights to produce attention coefficients $\\alpha_{ij}$.\n",
        "$$a_{ij}=W_{att}^T[wx_i ||wx_j]$$\n",
        "- Leaky ReLU is then applied and attention scores are normalized using the softmax function.\n",
        "$$e_{ij} = LeakyReLU(a_{ij})$$\n",
        "$$\\alpha_{ij} = softmax(e_{ij}) = \\frac{exp(e_{ij})}{\\sum_{k \\in N_i} exp(e_{ik})}$$\n",
        "- However, self-attention is not very stable. Hence, multi-attention calculates multiple embeddings with their own attention scores instead of a single one.\n",
        "- Each instance produces an embedding $h_i^k$ where $k$ is the index of the attention head. There are two ways of combining these results.\n",
        "1. Averaging: Sum the different embeddings and normalize by the number of attention heads $n$\n",
        "$$h_i = \\frac{1}{n}\\sum_{k=1}^{n}\\sum_{j \\in N_i} \\alpha_{ij}^kW^kx_j$$\n",
        "2. Concatenation: Concatenate the different embeddings\n",
        "$$h_i = ||_{k=1}^{n} \\sum_{j \\in N_i} \\alpha_{ij}^k W^k x_j$$\n",
        "- We choose the concatenation scheme when it's a hidden layer and the average scheme when it's the last layer of a network.\n"
      ],
      "metadata": {
        "id": "Bk5zPTzDXP4v"
      }
    },
    {
      "cell_type": "markdown",
      "source": [
        "### **Implementing Graph Attention Network**"
      ],
      "metadata": {
        "id": "7YEXmtpnaMZX"
      }
    },
    {
      "cell_type": "code",
      "source": [
        "from torch_geometric.datasets import Planetoid\n",
        "from torch_geometric.utils import degree\n",
        "from collections import Counter\n",
        "import matplotlib.pyplot as plt\n",
        "\n",
        "# Import dataset from PyTorch Geometric\n",
        "dataset = Planetoid(root=\".\", name=\"Cora\")\n",
        "data = dataset[0]\n",
        "\n",
        "# Get list of degrees for each node\n",
        "degrees = degree(data.edge_index[0]).numpy()\n",
        "\n",
        "# Count the number of nodes for each degree\n",
        "numbers = Counter(degrees)\n",
        "\n",
        "# Bar plot\n",
        "fig, ax = plt.subplots()\n",
        "ax.set_xlabel('Node degree')\n",
        "ax.set_ylabel('Number of nodes')\n",
        "plt.bar(numbers.keys(), numbers.values())"
      ],
      "metadata": {
        "colab": {
          "base_uri": "https://localhost:8080/",
          "height": 640
        },
        "id": "djPafb6GaJRq",
        "outputId": "b786a640-77c4-406b-df43-c3e117b8c430"
      },
      "execution_count": 3,
      "outputs": [
        {
          "output_type": "stream",
          "name": "stderr",
          "text": [
            "Downloading https://github.com/kimiyoung/planetoid/raw/master/data/ind.cora.x\n",
            "Downloading https://github.com/kimiyoung/planetoid/raw/master/data/ind.cora.tx\n",
            "Downloading https://github.com/kimiyoung/planetoid/raw/master/data/ind.cora.allx\n",
            "Downloading https://github.com/kimiyoung/planetoid/raw/master/data/ind.cora.y\n",
            "Downloading https://github.com/kimiyoung/planetoid/raw/master/data/ind.cora.ty\n",
            "Downloading https://github.com/kimiyoung/planetoid/raw/master/data/ind.cora.ally\n",
            "Downloading https://github.com/kimiyoung/planetoid/raw/master/data/ind.cora.graph\n",
            "Downloading https://github.com/kimiyoung/planetoid/raw/master/data/ind.cora.test.index\n",
            "Processing...\n",
            "Done!\n"
          ]
        },
        {
          "output_type": "execute_result",
          "data": {
            "text/plain": [
              "<BarContainer object of 37 artists>"
            ]
          },
          "metadata": {},
          "execution_count": 3
        },
        {
          "output_type": "display_data",
          "data": {
            "text/plain": [
              "<Figure size 640x480 with 1 Axes>"
            ],
            "image/png": "[encoded data removed]"
          },
          "metadata": {}
        }
      ]
    },
    {
      "cell_type": "code",
      "source": [
        "import torch\n",
        "torch.manual_seed(1)\n",
        "import torch.nn.functional as F\n",
        "from torch_geometric.nn import GATv2Conv\n",
        "from torch.nn import Linear, Dropout\n",
        "\n",
        "def accuracy(y_pred, y_true):\n",
        "    \"\"\"Calculate accuracy.\"\"\"\n",
        "    return torch.sum(y_pred == y_true) / len(y_true)\n",
        "\n",
        "class GCN(torch.nn.Module):\n",
        "  def __init__(self, dim_in, dim_h, dim_out, heads = 8):\n",
        "    super().__init__()\n",
        "    self.gat1 = GATv2Conv(dim_in, dim_h, heads = heads)\n",
        "    self.gat2 = GATv2Conv(dim_h * heads, dim_out, heads = 1)\n",
        "\n",
        "  def forward(self, x, edge_index):\n",
        "    h = F.dropout(x, p = 0.6, training = self.training)\n",
        "    h = self.gat1(h, edge_index)\n",
        "    h = F.elu(h)\n",
        "    h = F.dropout(h, p = 0.6, training = self.training)\n",
        "    h = self.gat2(h, edge_index)\n",
        "    return F.log_softmax(h, dim = 1)\n",
        "\n",
        "  def fit(self, data, epochs):\n",
        "    criterion = torch.nn.CrossEntropyLoss()\n",
        "    optimizer = torch.optim.Adam(self.parameters(), lr = 0.01, weight_decay = 5e-4)\n",
        "\n",
        "    self.train()\n",
        "    for epoch in range(epochs + 1):\n",
        "      optimizer.zero_grad()\n",
        "      out = self(data.x, data.edge_index)\n",
        "      loss = criterion(out[data.train_mask], data.y[data.train_mask])\n",
        "      acc = accuracy(out[data.train_mask].argmax(dim=1), data.y[data.train_mask])\n",
        "      loss.backward()\n",
        "      optimizer.step()\n",
        "\n",
        "      if(epoch % 20 == 0):\n",
        "        val_loss = criterion(out[data.val_mask], data.y[data.val_mask])\n",
        "        val_acc = accuracy(out[data.val_mask].argmax(dim=1), data.y[data.val_mask])\n",
        "        print(f'Epoch {epoch:>3} | Train Loss: {loss:.3f} | Train Acc:'\n",
        "                      f' {acc*100:>5.2f}% | Val Loss: {val_loss:.2f} | '\n",
        "                      f'Val Acc: {val_acc*100:.2f}%')\n",
        "\n",
        "  @torch.no_grad()\n",
        "  def test(self, data):\n",
        "    self.eval()\n",
        "    out = self(data.x, data.edge_index)\n",
        "    acc = accuracy(out.argmax(dim=1)[data.test_mask], data.y[data.test_mask])\n",
        "    return acc"
      ],
      "metadata": {
        "id": "ofCAtlQpaiuq"
      },
      "execution_count": 10,
      "outputs": []
    },
    {
      "cell_type": "code",
      "source": [
        "gcn = GCN(dataset.num_features, 16, dataset.num_classes)\n",
        "print(gcn)\n",
        "\n",
        "gcn.fit(data, epochs = 100)\n",
        "acc = gcn.test(data)\n",
        "print(f'\\nGCN test accuracy: {acc*100:.2f}%\\n')"
      ],
      "metadata": {
        "colab": {
          "base_uri": "https://localhost:8080/"
        },
        "id": "kipBUpSPcljq",
        "outputId": "0d7de8b6-63d2-40b7-a542-475b9fecc850"
      },
      "execution_count": 11,
      "outputs": [
        {
          "output_type": "stream",
          "name": "stdout",
          "text": [
            "GCN(\n",
            "  (gat1): GATv2Conv(1433, 16, heads=8)\n",
            "  (gat2): GATv2Conv(128, 7, heads=1)\n",
            ")\n",
            "Epoch   0 | Train Loss: 1.983 | Train Acc: 12.14% | Val Loss: 1.98 | Val Acc: 10.60%\n",
            "Epoch  20 | Train Loss: 0.022 | Train Acc: 99.29% | Val Loss: 1.32 | Val Acc: 70.60%\n",
            "Epoch  40 | Train Loss: 0.020 | Train Acc: 98.57% | Val Loss: 1.23 | Val Acc: 70.00%\n",
            "Epoch  60 | Train Loss: 0.024 | Train Acc: 100.00% | Val Loss: 1.18 | Val Acc: 70.60%\n",
            "Epoch  80 | Train Loss: 0.017 | Train Acc: 100.00% | Val Loss: 1.15 | Val Acc: 72.80%\n",
            "Epoch 100 | Train Loss: 0.020 | Train Acc: 100.00% | Val Loss: 1.05 | Val Acc: 75.60%\n",
            "\n",
            "GCN test accuracy: 80.00%\n",
            "\n"
          ]
        }
      ]
    }
  ]
}