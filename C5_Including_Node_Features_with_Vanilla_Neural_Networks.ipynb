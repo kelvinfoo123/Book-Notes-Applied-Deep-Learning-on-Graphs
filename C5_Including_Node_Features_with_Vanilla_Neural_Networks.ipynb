{
  "nbformat": 4,
  "nbformat_minor": 0,
  "metadata": {
    "colab": {
      "provenance": []
    },
    "kernelspec": {
      "name": "python3",
      "display_name": "Python 3"
    },
    "language_info": {
      "name": "python"
    }
  },
  "cells": [
    {
      "cell_type": "markdown",
      "source": [
        "## **Introducing Dataset**\n",
        "The dataset used is the Facebook Page-Page dataset, which was created using the Facebook Graph API in Nov 2017. In the dataset, each of the 22470 nodes represent an official Facebook page. Pages are connected when there are mutual likes between them. Node features (128-dim vectors) are created from textua descriptions by the owners of these pages. The goal is to classify each node into one of four categories: politicians, companies, television shows and governmental organisations."
      ],
      "metadata": {
        "id": "mTsnQI3Txap0"
      }
    },
    {
      "cell_type": "code",
      "source": [
        "!pip install -q torch-scatter~=2.1.0 torch-sparse~=0.6.16 torch-cluster~=1.6.0 torch-spline-conv~=1.2.1 torch-geometric==2.2.0 -f https://data.pyg.org/whl/torch-{torch.__version__}.html"
      ],
      "metadata": {
        "id": "vUukES5X1TFF"
      },
      "execution_count": 9,
      "outputs": []
    },
    {
      "cell_type": "code",
      "source": [
        "import torch\n",
        "from torch_geometric.utils import to_dense_adj\n",
        "from torch_geometric.datasets import FacebookPagePage\n",
        "dataset = FacebookPagePage(root = \".\")\n",
        "data = dataset[0]\n",
        "\n",
        "print(f'Dataset: {dataset}')\n",
        "print(f'Number of graphs: {len(dataset)}')\n",
        "print(f'Number of nodes: {data.x.shape[0]}')\n",
        "print(f'Number of features: {dataset.num_features}')\n",
        "print(f'Number of classes: {dataset.num_classes}')"
      ],
      "metadata": {
        "colab": {
          "base_uri": "https://localhost:8080/"
        },
        "id": "cCt0UMFUyN7q",
        "outputId": "c80220aa-121a-4cdc-89c2-cc9009bb338b"
      },
      "execution_count": 25,
      "outputs": [
        {
          "output_type": "stream",
          "name": "stdout",
          "text": [
            "Dataset: FacebookPagePage()\n",
            "Number of graphs: 1\n",
            "Number of nodes: 22470\n",
            "Number of features: 128\n",
            "Number of classes: 4\n"
          ]
        }
      ]
    },
    {
      "cell_type": "code",
      "source": [
        "# Create training, validation and testing masks\n",
        "data.train_mask = torch.zeros(data.num_nodes, dtype=torch.bool)\n",
        "data.train_mask[:18000] = True\n",
        "\n",
        "data.val_mask = torch.zeros(data.num_nodes, dtype=torch.bool)\n",
        "data.val_mask[18000:20000] = True\n",
        "\n",
        "data.test_mask = torch.zeros(data.num_nodes, dtype=torch.bool)\n",
        "data.test_mask[20000:22470] = True"
      ],
      "metadata": {
        "id": "AahW5_-vyTYj"
      },
      "execution_count": 26,
      "outputs": []
    },
    {
      "cell_type": "markdown",
      "source": [
        "## **Classifying Nodes with Vanilla Graph Neural Networks**\n",
        "- A basic neural network layer corresponds to a linear transformation $h_A = x_AW^T$ where $x_A$ is the input vector of node $A$ and $W$ is the weight matrix.\n",
        "\n",
        "- Suppose $N_A$ is the set of neighbours of node $A$, our graph linear layer can be written as\n",
        "$$h_A = \\sum_{i \\in N_A} x_iW^T$$\n",
        "- Define an adjacency matrix $A$ that contains connections between every node in the graph, multiplying the input matrix by the adjacency matrix will directly sum up the neighbouring node features.\n",
        "- To ensure that the central node is considered in the operation, we can add self loops by $\\tilde{A} = A + I$.\n",
        "\n",
        "$$H = \\tilde{A}^TXW^T$$"
      ],
      "metadata": {
        "id": "24Acu3XRzOIu"
      }
    },
    {
      "cell_type": "code",
      "source": [
        "adjacency = to_dense_adj(data.edge_index)[0]\n",
        "adjacency += torch.eye(len(adjacency)) # Self-loops\n",
        "adjacency"
      ],
      "metadata": {
        "colab": {
          "base_uri": "https://localhost:8080/"
        },
        "id": "OtDwC7HK0kHo",
        "outputId": "69c9f56d-a861-47f7-dd2e-9241cc52ccbd"
      },
      "execution_count": 13,
      "outputs": [
        {
          "output_type": "execute_result",
          "data": {
            "text/plain": [
              "tensor([[1., 0., 0.,  ..., 0., 0., 0.],\n",
              "        [0., 1., 0.,  ..., 0., 0., 0.],\n",
              "        [0., 0., 1.,  ..., 0., 0., 0.],\n",
              "        ...,\n",
              "        [0., 0., 0.,  ..., 1., 0., 0.],\n",
              "        [0., 0., 0.,  ..., 0., 1., 0.],\n",
              "        [0., 0., 0.,  ..., 0., 0., 1.]])"
            ]
          },
          "metadata": {},
          "execution_count": 13
        }
      ]
    },
    {
      "cell_type": "code",
      "source": [
        "from torch.nn import Linear\n",
        "import torch.nn.functional as F\n",
        "\n",
        "class VanillaGNNLayer(torch.nn.Module):\n",
        "  def __init__(self, dim_in, dim_out):\n",
        "    super().__init__()\n",
        "    self.linear = Linear(dim_in, dim_out, bias = False)\n",
        "\n",
        "  def forward(self, x, adjacency):\n",
        "    x = self.linear(x)\n",
        "    x = torch.sparse.mm(adjacency, x)\n",
        "    return x"
      ],
      "metadata": {
        "id": "irQLngUR1QMd"
      },
      "execution_count": 22,
      "outputs": []
    },
    {
      "cell_type": "code",
      "source": [
        "def accuracy(y_pred, y_true):\n",
        "  return torch.sum(y_pred == y_true) / len(y_true)"
      ],
      "metadata": {
        "id": "KAW6nPDx3365"
      },
      "execution_count": 21,
      "outputs": []
    },
    {
      "cell_type": "code",
      "source": [
        "class VanillaGNN(torch.nn.Module):\n",
        "  def __init__(self, dim_in, dim_h, dim_out):\n",
        "    super().__init__()\n",
        "    self.gnn1 = VanillaGNNLayer(dim_in, dim_h)\n",
        "    self.gnn2 = VanillaGNNLayer(dim_h, dim_out)\n",
        "\n",
        "  def forward(self, x, adjacency):\n",
        "    h = self.gnn1(x, adjacency)\n",
        "    h = torch.relu(h)\n",
        "    h = self.gnn2(h, adjacency)\n",
        "    return F.log_softmax(h, dim = 1)\n",
        "\n",
        "  def fit(self, data, epochs):\n",
        "    criterion = torch.nn.CrossEntropyLoss()\n",
        "    optimizer = torch.optim.Adam(self.parameters(), lr = 0.01, weight_decay = 5e-4)\n",
        "\n",
        "    self.train()\n",
        "    for epoch in range(epochs + 1):\n",
        "      optimizer.zero_grad()\n",
        "      out = self(data.x, adjacency)\n",
        "      loss = criterion(out[data.train_mask], data.y[data.train_mask])\n",
        "      acc = accuracy(out[data.train_mask].argmax(dim = 1), data.y[data.train_mask])\n",
        "      loss.backward()\n",
        "      optimizer.step()\n",
        "\n",
        "      if (epoch % 20 == 0):\n",
        "        val_loss = criterion(out[data.val_mask], data.y[data.val_mask])\n",
        "        val_acc = accuracy(out[data.val_mask].argmax(dim=1), data.y[data.val_mask])\n",
        "        print(f'Epoch {epoch:>3} | Train Loss: {loss:.3f} | Train Acc:'\n",
        "              f' {acc*100:>5.2f}% | Val Loss: {val_loss:.2f} | '\n",
        "              f'Val Acc: {val_acc*100:.2f}%')\n",
        "\n",
        "  @torch.no_grad()\n",
        "  def test(self, data):\n",
        "     self.eval()\n",
        "     out = self(data.x, adjacency)\n",
        "     acc = accuracy(out.argmax(dim = 1)[data.test_mask], data.y[data.test_mask])\n",
        "     return acc"
      ],
      "metadata": {
        "id": "lUV6qAT92Pe9"
      },
      "execution_count": 28,
      "outputs": []
    },
    {
      "cell_type": "code",
      "source": [
        "gnn = VanillaGNN(dataset.num_features, 16, dataset.num_classes)\n",
        "print(gnn)\n",
        "\n",
        "# Training\n",
        "gnn.fit(data, epochs = 100)\n",
        "\n",
        "# Testing\n",
        "acc = gnn.test(data)\n",
        "print(f'\\nGNN test accuracy: {acc*100:.2f}%')"
      ],
      "metadata": {
        "colab": {
          "base_uri": "https://localhost:8080/"
        },
        "id": "MPxwZI994h5b",
        "outputId": "969d61e6-80f7-43a3-d0e6-bd54c67100b4"
      },
      "execution_count": 29,
      "outputs": [
        {
          "output_type": "stream",
          "name": "stdout",
          "text": [
            "VanillaGNN(\n",
            "  (gnn1): VanillaGNNLayer(\n",
            "    (linear): Linear(in_features=128, out_features=16, bias=False)\n",
            "  )\n",
            "  (gnn2): VanillaGNNLayer(\n",
            "    (linear): Linear(in_features=16, out_features=4, bias=False)\n",
            "  )\n",
            ")\n",
            "Epoch   0 | Train Loss: 159.498 | Train Acc: 30.09% | Val Loss: 164.61 | Val Acc: 30.00%\n",
            "Epoch  20 | Train Loss: 3.251 | Train Acc: 77.18% | Val Loss: 2.41 | Val Acc: 78.25%\n",
            "Epoch  40 | Train Loss: 1.759 | Train Acc: 80.95% | Val Loss: 1.38 | Val Acc: 82.45%\n",
            "Epoch  60 | Train Loss: 1.122 | Train Acc: 81.43% | Val Loss: 0.92 | Val Acc: 83.45%\n",
            "Epoch  80 | Train Loss: 0.814 | Train Acc: 81.98% | Val Loss: 0.72 | Val Acc: 84.40%\n",
            "Epoch 100 | Train Loss: 0.672 | Train Acc: 83.22% | Val Loss: 0.62 | Val Acc: 85.35%\n",
            "\n",
            "GNN test accuracy: 83.48%\n"
          ]
        }
      ]
    }
  ]
}